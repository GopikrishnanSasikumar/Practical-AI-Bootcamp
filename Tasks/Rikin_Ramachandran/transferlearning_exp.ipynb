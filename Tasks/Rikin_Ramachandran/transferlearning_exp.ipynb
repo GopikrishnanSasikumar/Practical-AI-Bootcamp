{
  "nbformat": 4,
  "nbformat_minor": 0,
  "metadata": {
    "colab": {
      "name": "transferlearning_exp.ipynb",
      "provenance": [],
      "collapsed_sections": [],
      "authorship_tag": "ABX9TyN2asiPlEhQijUr1dxAg/Rj"
    },
    "kernelspec": {
      "name": "python3",
      "display_name": "Python 3"
    },
    "language_info": {
      "name": "python"
    }
  },
  "cells": [
    {
      "cell_type": "code",
      "metadata": {
        "id": "fxdcJk183TIE"
      },
      "source": [
        "import tensorflow as tf\n",
        "from tensorflow.keras.applications.inception_v3 import InceptionV3\n",
        "from tensorflow.keras.applications.vgg16 import VGG16\n",
        "from tensorflow.keras.applications.mobilenet import MobileNet\n",
        "from tensorflow.keras.applications.resnet50 import ResNet50\n",
        "from keras.layers import GlobalAveragePooling2D, Dense, Flatten\n",
        "from keras.layers import BatchNormalization, Dropout\n",
        "from keras.models import Model"
      ],
      "execution_count": 1,
      "outputs": []
    },
    {
      "cell_type": "code",
      "metadata": {
        "colab": {
          "base_uri": "https://localhost:8080/"
        },
        "id": "GYPhip8Gem3Q",
        "outputId": "a818f6ce-1ce7-4d44-ea67-a68be1c4f509"
      },
      "source": [
        "vgg = VGG16(weights ='imagenet', include_top = False, \n",
        "               input_shape =(32, 32, 3)) \n",
        "\n",
        "for layer in vgg.layers:\n",
        "    layer.trainable= False\n",
        "\n",
        "\n",
        "x = vgg.output\n",
        "\n",
        "x = GlobalAveragePooling2D()(x)\n",
        "\n",
        "x = BatchNormalization()(x)\n",
        "\n",
        "x = Dropout(0.5)(x) \n",
        "x = Dense(512, activation ='relu')(x)\n",
        "x = BatchNormalization()(x)\n",
        "x = Dropout(0.5)(x)\n",
        "\n",
        "\n",
        "x = Dense(10, activation ='softmax')(x)\n",
        "\n",
        "model1 = Model(vgg.input, x)\n",
        "\n",
        "model1.compile(optimizer ='Adam', \n",
        "              loss ='sparse_categorical_crossentropy',\n",
        "              metrics =['accuracy']) \n",
        "\n",
        "mbn= MobileNet(weights='imagenet', include_top=False,\n",
        "              input_shape=(32,32,3))\n",
        "\n",
        "for layer in mbn.layers:\n",
        "    layer.trainable= False\n",
        "\n",
        "\n",
        "y = mbn.output\n",
        "\n",
        "y = GlobalAveragePooling2D()(y)\n",
        "\n",
        "y = BatchNormalization()(y)\n",
        "\n",
        "y = Dropout(0.5)(y) \n",
        "y = Dense(512, activation ='relu')(y)\n",
        "y = BatchNormalization()(y)\n",
        "y = Dropout(0.5)(y)\n",
        "\n",
        "\n",
        "y = Dense(10, activation ='softmax')(y)\n",
        "model2= Model(mbn.input, y)\n",
        "model2.compile(optimizer ='Adam', \n",
        "              loss ='sparse_categorical_crossentropy',\n",
        "              metrics =['accuracy']) \n",
        "\n",
        "res= ResNet50(weights='imagenet', include_top=False,\n",
        "              input_shape=(32,32,3))\n",
        "\n",
        "for layer in res.layers:\n",
        "    layer.trainable= False\n",
        "\n",
        "\n",
        "z = res.output\n",
        "\n",
        "z = GlobalAveragePooling2D()(z)\n",
        "\n",
        "z = BatchNormalization()(z)\n",
        "\n",
        "z = Dropout(0.5)(z) \n",
        "z = Dense(512, activation ='relu')(z)\n",
        "z = BatchNormalization()(z)\n",
        "z = Dropout(0.5)(z)\n",
        "\n",
        "\n",
        "z = Dense(10, activation ='softmax')(z)\n",
        "model3= Model(res.input, z)\n",
        "model3.compile(optimizer ='Adam', \n",
        "              loss ='sparse_categorical_crossentropy',\n",
        "              metrics =['accuracy'])\n"
      ],
      "execution_count": 2,
      "outputs": [
        {
          "output_type": "stream",
          "name": "stdout",
          "text": [
            "Downloading data from https://storage.googleapis.com/tensorflow/keras-applications/vgg16/vgg16_weights_tf_dim_ordering_tf_kernels_notop.h5\n",
            "58892288/58889256 [==============================] - 0s 0us/step\n",
            "58900480/58889256 [==============================] - 0s 0us/step\n",
            "WARNING:tensorflow:`input_shape` is undefined or non-square, or `rows` is not in [128, 160, 192, 224]. Weights for input shape (224, 224) will be loaded as the default.\n",
            "Downloading data from https://storage.googleapis.com/tensorflow/keras-applications/mobilenet/mobilenet_1_0_224_tf_no_top.h5\n",
            "17227776/17225924 [==============================] - 0s 0us/step\n",
            "17235968/17225924 [==============================] - 0s 0us/step\n",
            "Downloading data from https://storage.googleapis.com/tensorflow/keras-applications/resnet/resnet50_weights_tf_dim_ordering_tf_kernels_notop.h5\n",
            "94773248/94765736 [==============================] - 1s 0us/step\n",
            "94781440/94765736 [==============================] - 1s 0us/step\n"
          ]
        }
      ]
    },
    {
      "cell_type": "code",
      "metadata": {
        "colab": {
          "base_uri": "https://localhost:8080/"
        },
        "id": "8PV8DxmOnuIz",
        "outputId": "564903a0-01df-4dc2-f444-71cf22ed2f21"
      },
      "source": [
        "ds= tf.keras.datasets.cifar10\n",
        "(x_train_m,y_train),(x_test_m, y_test)=ds.load_data()\n",
        "x_train_m=x_train_m/255\n",
        "x_test_m= x_test_m/255\n",
        "y_train = y_train.reshape(-1,)\n",
        "x_train_m.shape"
      ],
      "execution_count": 3,
      "outputs": [
        {
          "output_type": "stream",
          "name": "stdout",
          "text": [
            "Downloading data from https://www.cs.toronto.edu/~kriz/cifar-10-python.tar.gz\n",
            "170500096/170498071 [==============================] - 4s 0us/step\n",
            "170508288/170498071 [==============================] - 4s 0us/step\n"
          ]
        },
        {
          "output_type": "execute_result",
          "data": {
            "text/plain": [
              "(50000, 32, 32, 3)"
            ]
          },
          "metadata": {},
          "execution_count": 3
        }
      ]
    },
    {
      "cell_type": "code",
      "metadata": {
        "id": "0lJOAgi1orJv",
        "colab": {
          "base_uri": "https://localhost:8080/"
        },
        "outputId": "634c3d7c-34f1-4519-e47b-66281df2fa59"
      },
      "source": [
        "model1.fit(x_train_m, y_train, epochs=5,batch_size=512, validation_split=0.1)"
      ],
      "execution_count": 4,
      "outputs": [
        {
          "output_type": "stream",
          "name": "stdout",
          "text": [
            "Epoch 1/5\n",
            "88/88 [==============================] - 505s 6s/step - loss: 2.0857 - accuracy: 0.3715 - val_loss: 1.8043 - val_accuracy: 0.3496\n",
            "Epoch 2/5\n",
            "88/88 [==============================] - 504s 6s/step - loss: 1.6780 - accuracy: 0.4412 - val_loss: 1.5746 - val_accuracy: 0.4592\n",
            "Epoch 3/5\n",
            "88/88 [==============================] - 508s 6s/step - loss: 1.5453 - accuracy: 0.4651 - val_loss: 1.4084 - val_accuracy: 0.5350\n",
            "Epoch 4/5\n",
            "88/88 [==============================] - 507s 6s/step - loss: 1.4854 - accuracy: 0.4806 - val_loss: 1.3148 - val_accuracy: 0.5616\n",
            "Epoch 5/5\n",
            "88/88 [==============================] - 509s 6s/step - loss: 1.4581 - accuracy: 0.4882 - val_loss: 1.2624 - val_accuracy: 0.5708\n"
          ]
        },
        {
          "output_type": "execute_result",
          "data": {
            "text/plain": [
              "<keras.callbacks.History at 0x7f76a4f118d0>"
            ]
          },
          "metadata": {},
          "execution_count": 4
        }
      ]
    },
    {
      "cell_type": "code",
      "metadata": {
        "id": "_CbZ8sNj5tv9",
        "colab": {
          "base_uri": "https://localhost:8080/"
        },
        "outputId": "1af11d97-160d-4269-a2d8-f29989f1d1fe"
      },
      "source": [
        "  model2.fit(x_train_m, y_train, epochs=5,batch_size=512, validation_split=0.1)"
      ],
      "execution_count": 5,
      "outputs": [
        {
          "output_type": "stream",
          "name": "stdout",
          "text": [
            "Epoch 1/5\n",
            "88/88 [==============================] - 41s 445ms/step - loss: 2.6248 - accuracy: 0.1389 - val_loss: 2.2761 - val_accuracy: 0.1404\n",
            "Epoch 2/5\n",
            "88/88 [==============================] - 39s 448ms/step - loss: 2.4842 - accuracy: 0.1464 - val_loss: 2.2630 - val_accuracy: 0.1964\n",
            "Epoch 3/5\n",
            "88/88 [==============================] - 40s 450ms/step - loss: 2.4155 - accuracy: 0.1542 - val_loss: 2.2349 - val_accuracy: 0.2122\n",
            "Epoch 4/5\n",
            "88/88 [==============================] - 40s 455ms/step - loss: 2.3792 - accuracy: 0.1571 - val_loss: 2.2081 - val_accuracy: 0.2262\n",
            "Epoch 5/5\n",
            "88/88 [==============================] - 39s 445ms/step - loss: 2.3427 - accuracy: 0.1608 - val_loss: 2.1949 - val_accuracy: 0.2134\n"
          ]
        },
        {
          "output_type": "execute_result",
          "data": {
            "text/plain": [
              "<keras.callbacks.History at 0x7f76a48494d0>"
            ]
          },
          "metadata": {},
          "execution_count": 5
        }
      ]
    },
    {
      "cell_type": "code",
      "metadata": {
        "id": "-_9CRsE8J-lO",
        "colab": {
          "base_uri": "https://localhost:8080/"
        },
        "outputId": "2df4705c-a1a2-48cb-a4cf-3231aaed4074"
      },
      "source": [
        "  model3.fit(x_train_m, y_train, epochs=5,batch_size=512, validation_split=0.1)"
      ],
      "execution_count": 6,
      "outputs": [
        {
          "output_type": "stream",
          "name": "stdout",
          "text": [
            "Epoch 1/5\n",
            "88/88 [==============================] - 172s 2s/step - loss: 2.4360 - accuracy: 0.2661 - val_loss: 2.2890 - val_accuracy: 0.1894\n",
            "Epoch 2/5\n",
            "88/88 [==============================] - 166s 2s/step - loss: 2.0509 - accuracy: 0.3119 - val_loss: 2.0309 - val_accuracy: 0.2476\n",
            "Epoch 3/5\n",
            "88/88 [==============================] - 166s 2s/step - loss: 1.9170 - accuracy: 0.3324 - val_loss: 1.8004 - val_accuracy: 0.3774\n",
            "Epoch 4/5\n",
            "88/88 [==============================] - 165s 2s/step - loss: 1.8475 - accuracy: 0.3453 - val_loss: 1.7174 - val_accuracy: 0.3960\n",
            "Epoch 5/5\n",
            "88/88 [==============================] - 169s 2s/step - loss: 1.8172 - accuracy: 0.3563 - val_loss: 1.6674 - val_accuracy: 0.4240\n"
          ]
        },
        {
          "output_type": "execute_result",
          "data": {
            "text/plain": [
              "<keras.callbacks.History at 0x7f76a4161250>"
            ]
          },
          "metadata": {},
          "execution_count": 6
        }
      ]
    },
    {
      "cell_type": "code",
      "metadata": {
        "id": "ltgsWTdezPpN"
      },
      "source": [
        ""
      ],
      "execution_count": null,
      "outputs": []
    }
  ]
}