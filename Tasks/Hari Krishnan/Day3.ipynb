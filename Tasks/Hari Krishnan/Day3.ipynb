{
  "nbformat": 4,
  "nbformat_minor": 0,
  "metadata": {
    "colab": {
      "name": "Practical-AI.ipynb",
      "provenance": []
    },
    "kernelspec": {
      "name": "python3",
      "display_name": "Python 3"
    },
    "language_info": {
      "name": "python"
    }
  },
  "cells": [
    {
      "cell_type": "code",
      "metadata": {
        "id": "PKp4dULt_A_8"
      },
      "source": [
        "pip install -q -U tensorflow-text"
      ],
      "execution_count": null,
      "outputs": []
    },
    {
      "cell_type": "code",
      "metadata": {
        "id": "uEI8k46kCR12"
      },
      "source": [
        "import tensorflow_text as tf_text\n",
        "import tensorflow as tf"
      ],
      "execution_count": null,
      "outputs": []
    },
    {
      "cell_type": "code",
      "metadata": {
        "id": "ICG3Q0IrBN21"
      },
      "source": [
        "directory_url = 'https://storage.googleapis.com/download.tensorflow.org/data/illiad/'\n",
        "file_names = ['cowper.txt', 'derby.txt', 'butler.txt']\n",
        "\n",
        "file_paths = [\n",
        "    tf.keras.utils.get_file(file_name, directory_url + file_name)\n",
        "    for file_name in file_names\n",
        "]\n",
        "\n",
        "dataset = tf.data.TextLineDataset(file_paths)"
      ],
      "execution_count": null,
      "outputs": []
    },
    {
      "cell_type": "code",
      "metadata": {
        "id": "9o9IBnvMCdmT"
      },
      "source": [
        "data = dataset.map(lambda s : tf_text.normalize_utf8(s)).repeat()\n",
        "\n",
        "for s in data:\n",
        "  print(s.numpy())"
      ],
      "execution_count": 22,
      "outputs": []
    }
  ]
}