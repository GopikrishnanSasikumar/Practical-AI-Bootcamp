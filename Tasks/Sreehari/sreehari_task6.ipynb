{
  "nbformat": 4,
  "nbformat_minor": 0,
  "metadata": {
    "colab": {
      "name": "sreehari_task6.ipynb",
      "provenance": []
    },
    "kernelspec": {
      "name": "python3",
      "display_name": "Python 3"
    },
    "language_info": {
      "name": "python"
    }
  },
  "cells": [
    {
      "cell_type": "code",
      "metadata": {
        "colab": {
          "base_uri": "https://localhost:8080/"
        },
        "id": "D8wsZchgN0XB",
        "outputId": "826e9651-765d-4fbb-91ac-bd354e61fe8f"
      },
      "source": [
        "from keras.applications.vgg16 import VGG16\n",
        "from tensorflow.keras.datasets import cifar10\n",
        "from tensorflow.keras import datasets, layers, models\n",
        "from keras.layers import GlobalAveragePooling2D, Dense\n",
        "from keras.layers import BatchNormalization, Dropout\n",
        "from keras.models import Model\n",
        "\n",
        "(x_train, y_train), (x_test, y_test) = datasets.cifar10.load_data()\n",
        "cifar10_classes = ['airplane', 'automobile', 'bird', 'cat', 'deer', 'dog', 'frog', 'horse', 'ship', 'truck']\n",
        "\n",
        "x_train = x_train/255.0\n",
        "x_test = x_test/255.0\n",
        "\n",
        "vgg = VGG16(weights ='imagenet', include_top = False, \n",
        "               input_shape =(32,32, 3)) \n",
        "vgg.trainable = False\n",
        "               \n",
        "x = vgg.output\n",
        "x = GlobalAveragePooling2D()(x)\n",
        "x = BatchNormalization()(x)\n",
        "x = Dropout(0.5)(x) \n",
        "x = Dense(512, activation ='relu')(x)\n",
        "x = BatchNormalization()(x)\n",
        "x = Dropout(0.5)(x)\n",
        "x = Dense(10, activation ='softmax')(x)\n",
        "\n",
        "model = Model(vgg.input, x)\n",
        "model.compile(optimizer ='Adam', \n",
        "              loss ='sparse_categorical_crossentropy', \n",
        "              metrics ='accuracy') \n",
        "\n",
        "model.fit(x_train, y_train, epochs = 5, validation_data = (x_test, y_test))\n",
        "test_loss, test_accuracy = model.evaluate(x_test, y_test)\n",
        "print(\"Test accuracy: {}\".format(test_accuracy))"
      ],
      "execution_count": 14,
      "outputs": [
        {
          "output_type": "stream",
          "name": "stdout",
          "text": [
            "Epoch 1/5\n",
            "1563/1563 [==============================] - 437s 279ms/step - loss: 1.8014 - accuracy: 0.4076 - val_loss: 1.3403 - val_accuracy: 0.5377\n",
            "Epoch 2/5\n",
            "1563/1563 [==============================] - 436s 279ms/step - loss: 1.5489 - accuracy: 0.4550 - val_loss: 1.3026 - val_accuracy: 0.5488\n",
            "Epoch 3/5\n",
            "1563/1563 [==============================] - 436s 279ms/step - loss: 1.5020 - accuracy: 0.4724 - val_loss: 1.2820 - val_accuracy: 0.5510\n",
            "Epoch 4/5\n",
            "1563/1563 [==============================] - 434s 278ms/step - loss: 1.4837 - accuracy: 0.4766 - val_loss: 1.2618 - val_accuracy: 0.5618\n",
            "Epoch 5/5\n",
            "1563/1563 [==============================] - 434s 278ms/step - loss: 1.4621 - accuracy: 0.4847 - val_loss: 1.2412 - val_accuracy: 0.5653\n",
            "313/313 [==============================] - 72s 230ms/step - loss: 1.2412 - accuracy: 0.5653\n",
            "Test accuracy: 0.5652999877929688\n"
          ]
        }
      ]
    },
    {
      "cell_type": "code",
      "metadata": {
        "id": "8A7hROCLN63B"
      },
      "source": [
        ""
      ],
      "execution_count": null,
      "outputs": []
    }
  ]
}