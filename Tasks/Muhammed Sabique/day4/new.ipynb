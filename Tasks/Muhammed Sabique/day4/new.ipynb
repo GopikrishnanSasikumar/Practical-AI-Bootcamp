{
 "cells": [
  {
   "cell_type": "code",
   "execution_count": 1,
   "source": [
    "import tensorflow as tf\r\n",
    "import tensorflow_datasets as tfds\r\n",
    "import numpy as np\r\n",
    "from tensorflow.keras.preprocessing.text import Tokenizer\r\n",
    "from tensorflow.keras.preprocessing.sequence import pad_sequences\r\n",
    "from tensorflow.keras.preprocessing.sequence import pad_sequences\r\n",
    "from tensorflow.keras.callbacks import EarlyStopping\r\n",
    "from lrfinder import LRFinder\r\n",
    "import matplotlib.pyplot as plt\r\n",
    "\r\n",
    "K = tf.keras.backend\r\n",
    "\r\n",
    "imdb, info = tfds.load(\"imdb_reviews\", with_info=True, as_supervised=True)\r\n",
    "train_data, test_data = imdb['train'], imdb['test']\r\n",
    "\r\n",
    "training_sentences = []\r\n",
    "training_labels = []\r\n",
    "\r\n",
    "testing_sentences = []\r\n",
    "testing_labels = []\r\n",
    "\r\n",
    "for s,l in train_data:\r\n",
    "  training_sentences.append(str(s.numpy()))\r\n",
    "  training_labels.append(l.numpy())\r\n",
    "  \r\n",
    "for s,l in test_data:\r\n",
    "  testing_sentences.append(str(s.numpy()))\r\n",
    "  testing_labels.append(l.numpy())\r\n",
    "  \r\n",
    "training_labels_final = np.array(training_labels)\r\n",
    "testing_labels_final = np.array(testing_labels)\r\n",
    "\r\n",
    "vocab_size = 10000\r\n",
    "embedding_dim = 16\r\n",
    "max_length = 120\r\n",
    "trunc_type='post'\r\n",
    "oov_tok = \"\"\r\n",
    "num_epochs=1\r\n",
    "\r\n",
    "tokenizer = Tokenizer(num_words = vocab_size, oov_token=oov_tok) \r\n",
    "tokenizer.fit_on_texts(training_sentences) \r\n",
    "word_index = tokenizer.word_index\r\n",
    "sequences = tokenizer.texts_to_sequences(training_sentences) \r\n",
    "padded = pad_sequences(sequences,maxlen=max_length, truncating=trunc_type)\r\n",
    "testing_sequences = tokenizer.texts_to_sequences(testing_sentences)\r\n",
    "testing_padded = pad_sequences(testing_sequences,maxlen=max_length)\r\n",
    "\r\n",
    "model = tf.keras.Sequential([\r\n",
    "    tf.keras.layers.Embedding(vocab_size, embedding_dim, input_length=max_length),\r\n",
    "    tf.keras.layers.Bidirectional(tf.keras.layers.GRU(32)),\r\n",
    "    tf.keras.layers.Dense(6, activation='relu'),\r\n",
    "    tf.keras.layers.Dense(1, activation='sigmoid')\r\n",
    "])\r\n",
    "model.compile(loss='binary_crossentropy',optimizer='adam',metrics=['accuracy'])\r\n",
    "\r\n",
    "model.summary()\r\n",
    "\r\n",
    "BATCH = 512\r\n",
    "train_ds = tf.data.Dataset.from_tensor_slices((padded, training_labels_final))\r\n",
    "train_ds = train_ds.batch(BATCH)\r\n",
    "STEPS_PER_EPOCH = np.ceil(len(train_data) / BATCH)\r\n",
    "lr_finder = LRFinder(model)\r\n",
    "lr_finder.find(train_ds, start_lr=1e-6, end_lr=1, epochs=num_epochs,\r\n",
    "               steps_per_epoch=STEPS_PER_EPOCH)\r\n",
    "               \r\n",
    "learning_rates = lr_finder.get_learning_rates()\r\n",
    "losses = lr_finder.get_losses()\r\n",
    "\r\n",
    "def plot_loss(learning_rates, losses, n_skip_beginning=10, n_skip_end=5, x_scale='log'):\r\n",
    "    f, ax = plt.subplots()\r\n",
    "    ax.set_ylabel(\"loss\")\r\n",
    "    ax.set_xlabel(\"learning rate (log scale)\")\r\n",
    "    ax.plot(learning_rates[n_skip_beginning:-n_skip_end],\r\n",
    "            losses[n_skip_beginning:-n_skip_end])\r\n",
    "    ax.set_xscale(x_scale)\r\n",
    "    return(ax)\r\n",
    "\r\n",
    "axs = plot_loss(learning_rates=learning_rates,losses=losses)\r\n",
    "axs.axvline(x=lr_finder.get_best_lr(sma=20), c='r', linestyle='-.')\r\n",
    "\r\n",
    "best_lr = lr_finder.get_best_lr(sma=20)\r\n",
    "K.set_value(model.optimizer.lr, best_lr)\r\n",
    "print(model.optimizer.lr)\r\n",
    "\r\n",
    "\r\n",
    "earlystop_callback = EarlyStopping(\r\n",
    "  monitor='val_accuracy', min_delta=0.0001, patience=1)\r\n",
    "\r\n",
    "model.fit(padded, training_labels_final, epochs=num_epochs, validation_data=(testing_padded, testing_labels_final), callbacks=[earlystop_callback])\r\n",
    "model.evaluate(testing_padded)\r\n"
   ],
   "outputs": [
    {
     "output_type": "stream",
     "name": "stdout",
     "text": [
      "49/49 [==============================] - 21s 285ms/step - loss: 0.7361 - accuracy: 0.5160\n",
      "<tf.Variable 'learning_rate:0' shape=() dtype=float32, numpy=0.025595475>\n",
      "782/782 [==============================] - 63s 80ms/step - loss: 0.5792 - accuracy: 0.6800 - val_loss: 0.4310 - val_accuracy: 0.8052\n",
      "782/782 [==============================] - 3s 2ms/step - loss: 0.0000e+00 - accuracy: 0.0000e+00\n",
      "Model: \"sequential\"\n",
      "_________________________________________________________________\n",
      "Layer (type)                 Output Shape              Param #   \n",
      "=================================================================\n",
      "embedding (Embedding)        (None, 120, 16)           160000    \n",
      "_________________________________________________________________\n",
      "bidirectional (Bidirectional (None, 64)                9600      \n",
      "_________________________________________________________________\n",
      "dense (Dense)                (None, 6)                 390       \n",
      "_________________________________________________________________\n",
      "dense_1 (Dense)              (None, 1)                 7         \n",
      "=================================================================\n",
      "Total params: 169,997\n",
      "Trainable params: 169,997\n",
      "Non-trainable params: 0\n",
      "_________________________________________________________________\n"
     ]
    },
    {
     "output_type": "display_data",
     "data": {
      "image/png": "[encoded data removed]",
      "text/plain": [
       "<Figure size 432x288 with 1 Axes>"
      ]
     },
     "metadata": {
      "needs_background": "light"
     }
    }
   ],
   "metadata": {}
  }
 ],
 "metadata": {
  "orig_nbformat": 4,
  "language_info": {
   "name": "python",
   "version": "3.7.9",
   "mimetype": "text/x-python",
   "codemirror_mode": {
    "name": "ipython",
    "version": 3
   },
   "pygments_lexer": "ipython3",
   "nbconvert_exporter": "python",
   "file_extension": ".py"
  },
  "kernelspec": {
   "name": "python3",
   "display_name": "Python 3.7.9 64-bit"
  },
  "interpreter": {
   "hash": "8be7fbc789268433cdf0ea7a7845956e7d975fa9d41d64f30fea24cd6cfda4c5"
  }
 },
 "nbformat": 4,
 "nbformat_minor": 2
}