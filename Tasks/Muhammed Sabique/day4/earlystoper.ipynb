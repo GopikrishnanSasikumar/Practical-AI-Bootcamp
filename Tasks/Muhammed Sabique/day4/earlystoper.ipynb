{
 "cells": [
  {
   "cell_type": "code",
   "execution_count": 16,
   "source": [
    "import os\r\n",
    "import tensorflow.keras.backend as K\r\n",
    "import math\r\n",
    "import tensorflow as tf\r\n",
    "import tensorflow_datasets as tfds\r\n",
    "import numpy as np\r\n",
    "from tensorflow.keras.preprocessing.text import Tokenizer\r\n",
    "from tensorflow.keras.preprocessing.sequence import pad_sequences\r\n",
    "import matplotlib.pyplot as plt\r\n",
    "from tensorflow.keras.callbacks import EarlyStopping, LambdaCallback\r\n",
    "from lrfinder import LRFinder as lrfinder\r\n"
   ],
   "outputs": [],
   "metadata": {}
  },
  {
   "cell_type": "code",
   "execution_count": 5,
   "source": [
    "imdb, info = tfds.load(\"imdb_reviews\", with_info=True, as_supervised=True)\r\n",
    "train_data, test_data = imdb['train'], imdb['test']\r\n",
    "\r\n",
    "training_sentences = []\r\n",
    "training_labels = []\r\n",
    "\r\n",
    "testing_sentences = []\r\n",
    "testing_labels = []\r\n",
    "\r\n",
    "for s,l in train_data:\r\n",
    "  training_sentences.append(str(s.numpy()))\r\n",
    "  training_labels.append(l.numpy())\r\n",
    "  \r\n",
    "for s,l in test_data:\r\n",
    "  testing_sentences.append(str(s.numpy()))\r\n",
    "  testing_labels.append(l.numpy())\r\n",
    "  \r\n",
    "training_labels_final = np.array(training_labels)\r\n",
    "testing_labels_final = np.array(testing_labels)"
   ],
   "outputs": [],
   "metadata": {}
  },
  {
   "cell_type": "code",
   "execution_count": 6,
   "source": [
    "vocab_size = 10000\r\n",
    "embedding_dim = 16\r\n",
    "max_length = 120\r\n",
    "trunc_type='post'\r\n",
    "oov_tok = \"\"\r\n",
    "\r\n",
    "tokenizer = Tokenizer(num_words = vocab_size, oov_token=oov_tok) \r\n",
    "tokenizer.fit_on_texts(training_sentences) \r\n",
    "word_index = tokenizer.word_index\r\n",
    "sequences = tokenizer.texts_to_sequences(training_sentences) \r\n",
    "padded = pad_sequences(sequences,maxlen=max_length, truncating=trunc_type)\r\n",
    "testing_sequences = tokenizer.texts_to_sequences(testing_sentences)\r\n",
    "testing_padded = pad_sequences(testing_sequences,maxlen=max_length)"
   ],
   "outputs": [],
   "metadata": {}
  },
  {
   "cell_type": "code",
   "execution_count": 7,
   "source": [
    "model = tf.keras.Sequential([\r\n",
    "    tf.keras.layers.Embedding(vocab_size, embedding_dim, input_length=max_length),\r\n",
    "    tf.keras.layers.Bidirectional(tf.keras.layers.GRU(32)),\r\n",
    "    tf.keras.layers.Dense(6, activation='relu'),\r\n",
    "    tf.keras.layers.Dense(1, activation='sigmoid')\r\n",
    "])\r\n",
    "model.compile(loss='binary_crossentropy',optimizer='adam',metrics=['accuracy'])"
   ],
   "outputs": [],
   "metadata": {}
  },
  {
   "cell_type": "code",
   "execution_count": 9,
   "source": [
    "model.summary()"
   ],
   "outputs": [
    {
     "output_type": "stream",
     "name": "stdout",
     "text": [
      "Model: \"sequential\"\n",
      "_________________________________________________________________\n",
      "Layer (type)                 Output Shape              Param #   \n",
      "=================================================================\n",
      "embedding (Embedding)        (None, 120, 16)           160000    \n",
      "_________________________________________________________________\n",
      "bidirectional (Bidirectional (None, 64)                9600      \n",
      "_________________________________________________________________\n",
      "dense (Dense)                (None, 6)                 390       \n",
      "_________________________________________________________________\n",
      "dense_1 (Dense)              (None, 1)                 7         \n",
      "=================================================================\n",
      "Total params: 169,997\n",
      "Trainable params: 169,997\n",
      "Non-trainable params: 0\n",
      "_________________________________________________________________\n"
     ]
    }
   ],
   "metadata": {}
  },
  {
   "cell_type": "code",
   "execution_count": 18,
   "source": [
    "BATCH=128\r\n",
    "train = tf.data.Dataset.from_tensor_slices((padded, training_labels_final))\r\n",
    "train = train.batch(BATCH)\r\n",
    "STEPS_PER_EPOCH=np.ceil(len(train_data)/BATCH)\r\n",
    "lrfinder.find(train,start_lr=1e-6, end_lr=1, epochs=5, steps_per_epoch=STEPS_PER_EPOCH)\r\n",
    "learning_rates = lr_finder.get_learning_rates()\r\n",
    "losses = lr_finder.get_losses()\r\n",
    "best_lr = lr_finder.get_best_lr(sma=20)\r\n",
    "print(best_lr)\r\n",
    "K.set_value(model.optimizer.lr, best_lr)"
   ],
   "outputs": [
    {
     "output_type": "error",
     "ename": "TypeError",
     "evalue": "find() missing 1 required positional argument: 'dataset'",
     "traceback": [
      "\u001b[1;31m---------------------------------------------------------------------------\u001b[0m",
      "\u001b[1;31mTypeError\u001b[0m                                 Traceback (most recent call last)",
      "\u001b[1;32m<ipython-input-18-d70e5e233e09>\u001b[0m in \u001b[0;36m<module>\u001b[1;34m\u001b[0m\n\u001b[0;32m      3\u001b[0m \u001b[0mtrain\u001b[0m \u001b[1;33m=\u001b[0m \u001b[0mtrain\u001b[0m\u001b[1;33m.\u001b[0m\u001b[0mbatch\u001b[0m\u001b[1;33m(\u001b[0m\u001b[0mBATCH\u001b[0m\u001b[1;33m)\u001b[0m\u001b[1;33m\u001b[0m\u001b[1;33m\u001b[0m\u001b[0m\n\u001b[0;32m      4\u001b[0m \u001b[0mSTEPS_PER_EPOCH\u001b[0m\u001b[1;33m=\u001b[0m\u001b[0mnp\u001b[0m\u001b[1;33m.\u001b[0m\u001b[0mceil\u001b[0m\u001b[1;33m(\u001b[0m\u001b[0mlen\u001b[0m\u001b[1;33m(\u001b[0m\u001b[0mtrain_data\u001b[0m\u001b[1;33m)\u001b[0m\u001b[1;33m/\u001b[0m\u001b[0mBATCH\u001b[0m\u001b[1;33m)\u001b[0m\u001b[1;33m\u001b[0m\u001b[1;33m\u001b[0m\u001b[0m\n\u001b[1;32m----> 5\u001b[1;33m \u001b[0mlrfinder\u001b[0m\u001b[1;33m.\u001b[0m\u001b[0mfind\u001b[0m\u001b[1;33m(\u001b[0m\u001b[0mtrain\u001b[0m\u001b[1;33m,\u001b[0m\u001b[0mstart_lr\u001b[0m\u001b[1;33m=\u001b[0m\u001b[1;36m1e-6\u001b[0m\u001b[1;33m,\u001b[0m \u001b[0mend_lr\u001b[0m\u001b[1;33m=\u001b[0m\u001b[1;36m1\u001b[0m\u001b[1;33m,\u001b[0m \u001b[0mepochs\u001b[0m\u001b[1;33m=\u001b[0m\u001b[1;36m5\u001b[0m\u001b[1;33m,\u001b[0m \u001b[0msteps_per_epoch\u001b[0m\u001b[1;33m=\u001b[0m\u001b[0mSTEPS_PER_EPOCH\u001b[0m\u001b[1;33m)\u001b[0m\u001b[1;33m\u001b[0m\u001b[1;33m\u001b[0m\u001b[0m\n\u001b[0m\u001b[0;32m      6\u001b[0m \u001b[0mlearning_rates\u001b[0m \u001b[1;33m=\u001b[0m \u001b[0mlr_finder\u001b[0m\u001b[1;33m.\u001b[0m\u001b[0mget_learning_rates\u001b[0m\u001b[1;33m(\u001b[0m\u001b[1;33m)\u001b[0m\u001b[1;33m\u001b[0m\u001b[1;33m\u001b[0m\u001b[0m\n\u001b[0;32m      7\u001b[0m \u001b[0mlosses\u001b[0m \u001b[1;33m=\u001b[0m \u001b[0mlr_finder\u001b[0m\u001b[1;33m.\u001b[0m\u001b[0mget_losses\u001b[0m\u001b[1;33m(\u001b[0m\u001b[1;33m)\u001b[0m\u001b[1;33m\u001b[0m\u001b[1;33m\u001b[0m\u001b[0m\n",
      "\u001b[1;31mTypeError\u001b[0m: find() missing 1 required positional argument: 'dataset'"
     ]
    }
   ],
   "metadata": {}
  },
  {
   "cell_type": "code",
   "execution_count": null,
   "source": [],
   "outputs": [],
   "metadata": {}
  }
 ],
 "metadata": {
  "orig_nbformat": 4,
  "language_info": {
   "name": "python",
   "version": "3.7.9",
   "mimetype": "text/x-python",
   "codemirror_mode": {
    "name": "ipython",
    "version": 3
   },
   "pygments_lexer": "ipython3",
   "nbconvert_exporter": "python",
   "file_extension": ".py"
  },
  "kernelspec": {
   "name": "python3",
   "display_name": "Python 3.7.9 64-bit"
  },
  "interpreter": {
   "hash": "8be7fbc789268433cdf0ea7a7845956e7d975fa9d41d64f30fea24cd6cfda4c5"
  }
 },
 "nbformat": 4,
 "nbformat_minor": 2
}