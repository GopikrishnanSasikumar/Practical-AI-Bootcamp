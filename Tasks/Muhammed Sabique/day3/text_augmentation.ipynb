{
 "cells": [
  {
   "cell_type": "code",
   "execution_count": 1,
   "source": [
    "import tensorflow as tf\r\n",
    "import tensorflow_text as tf_text"
   ],
   "outputs": [],
   "metadata": {}
  },
  {
   "cell_type": "code",
   "execution_count": 19,
   "source": [
    "directory_url = 'https://storage.googleapis.com/download.tensorflow.org/data/illiad/'\r\n",
    "file_names = ['cowper.txt', 'derby.txt', 'butler.txt']\r\n",
    "\r\n",
    "file_paths = [\r\n",
    "    tf.keras.utils.get_file(file_name, directory_url + file_name)\r\n",
    "    for file_name in file_names\r\n",
    "]\r\n",
    "\r\n",
    "dataset = tf.data.TextLineDataset(file_paths)\r\n",
    "for line in dataset.take(5):\r\n",
    "    print(line.numpy())"
   ],
   "outputs": [
    {
     "output_type": "stream",
     "name": "stdout",
     "text": [
      "b\"\\xef\\xbb\\xbfAchilles sing, O Goddess! Peleus' son;\"\n",
      "b'His wrath pernicious, who ten thousand woes'\n",
      "b\"Caused to Achaia's host, sent many a soul\"\n",
      "b'Illustrious into Ades premature,'\n",
      "b'And Heroes gave (so stood the will of Jove)'\n"
     ]
    }
   ],
   "metadata": {}
  },
  {
   "cell_type": "code",
   "execution_count": 10,
   "source": [
    "def preprocess(example_text):\r\n",
    "\r\n",
    "     # Normalize text\r\n",
    "     tf_text.normalize_utf8(example_text)\r\n",
    "\r\n",
    "     # Tokenize into words\r\n",
    "     word_tokenizer = tf_text.WhitespaceTokenizer()\r\n",
    "     tokens = word_tokenizer.tokenize(example_text)\r\n",
    "     \r\n",
    "     return tokens\r\n",
    "     # # Tokenize into subwords\r\n",
    "     # subword_tokenizer = tf_text.WordpieceTokenizer(\r\n",
    "     #      lookup_table, token_out_type=tf.int64)\r\n",
    "     # subtokens = subword_tokenizer.tokenize(tokens).merge_dims(1, -1)\r\n",
    "\r\n",
    "     # # Apply padding\r\n",
    "     # padded_inputs = tf_text.pad_model_inputs(subtokens, max_seq_length=16)\r\n",
    "     # return padded_inputs"
   ],
   "outputs": [],
   "metadata": {}
  },
  {
   "cell_type": "code",
   "execution_count": 20,
   "source": [
    "preprocess(\"hey there\").numpy()"
   ],
   "outputs": [
    {
     "output_type": "execute_result",
     "data": {
      "text/plain": [
       "array([b'hey', b'there'], dtype=object)"
      ]
     },
     "metadata": {},
     "execution_count": 20
    }
   ],
   "metadata": {}
  },
  {
   "cell_type": "code",
   "execution_count": 26,
   "source": [
    "dataset = tf.data.TextLineDataset(file_paths)\r\n",
    "for line in dataset.take(5):\r\n",
    "    print(preprocess(line.numpy()).numpy())"
   ],
   "outputs": [
    {
     "output_type": "stream",
     "name": "stdout",
     "text": [
      "[b'\\xef\\xbb\\xbfAchilles' b'sing,' b'O' b'Goddess!' b\"Peleus'\" b'son;']\n",
      "[b'His' b'wrath' b'pernicious,' b'who' b'ten' b'thousand' b'woes']\n",
      "[b'Caused' b'to' b\"Achaia's\" b'host,' b'sent' b'many' b'a' b'soul']\n",
      "[b'Illustrious' b'into' b'Ades' b'premature,']\n",
      "[b'And' b'Heroes' b'gave' b'(so' b'stood' b'the' b'will' b'of' b'Jove)']\n"
     ]
    }
   ],
   "metadata": {}
  }
 ],
 "metadata": {
  "orig_nbformat": 4,
  "language_info": {
   "name": "python",
   "version": "3.7.9",
   "mimetype": "text/x-python",
   "codemirror_mode": {
    "name": "ipython",
    "version": 3
   },
   "pygments_lexer": "ipython3",
   "nbconvert_exporter": "python",
   "file_extension": ".py"
  },
  "kernelspec": {
   "name": "python3",
   "display_name": "Python 3.7.9 64-bit"
  },
  "interpreter": {
   "hash": "8be7fbc789268433cdf0ea7a7845956e7d975fa9d41d64f30fea24cd6cfda4c5"
  }
 },
 "nbformat": 4,
 "nbformat_minor": 2
}