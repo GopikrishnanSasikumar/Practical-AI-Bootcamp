{
  "nbformat": 4,
  "nbformat_minor": 0,
  "metadata": {
    "colab": {
      "name": "Day5_AIbootcamp.ipynb",
      "provenance": []
    },
    "kernelspec": {
      "name": "python3",
      "display_name": "Python 3"
    },
    "language_info": {
      "name": "python"
    }
  },
  "cells": [
    {
      "cell_type": "code",
      "metadata": {
        "id": "0SMkIssIZCHw"
      },
      "source": [
        "!pip install tensorflow-datasets\n",
        "\n"
      ],
      "execution_count": null,
      "outputs": []
    },
    {
      "cell_type": "code",
      "metadata": {
        "id": "2vRAm9pIb9Qm"
      },
      "source": [
        "\n",
        "import tensorflow as tf\n",
        "import tensorflow_datasets as tfds\n",
        "import numpy as np\n",
        "import math\n",
        "import matplotlib.pyplot as plt\n",
        "import tensorflow.keras.backend as K\n",
        "from tensorflow.keras.preprocessing.text import Tokenizer\n",
        "from tensorflow.keras.preprocessing.sequence import pad_sequences\n",
        "from tensorflow.keras.callbacks import EarlyStopping\n",
        "from tensorflow.keras.callbacks import LambdaCallback"
      ],
      "execution_count": 4,
      "outputs": []
    },
    {
      "cell_type": "code",
      "metadata": {
        "id": "gOz1nzHvduUV"
      },
      "source": [
        "\n",
        "\n",
        "class LRFinder:\n",
        "    \"\"\"\n",
        "    Learning rate range test detailed in Cyclical Learning Rates for Training\n",
        "    Neural Networks by Leslie N. Smith. The learning rate range test is a test\n",
        "    that provides valuable information about the optimal learning rate. During\n",
        "    a pre-training run, the learning rate is increased linearly or\n",
        "    exponentially between two boundaries. The low initial learning rate allows\n",
        "    the network to start converging and as the learning rate is increased it\n",
        "    will eventually be too large and the network will diverge.\n",
        "    \"\"\"\n",
        "\n",
        "    def __init__(self, model):\n",
        "        self.model = model\n",
        "        self.losses = []\n",
        "        self.learning_rates = []\n",
        "        self.best_loss = 1e9\n",
        "\n",
        "    def on_batch_end(self, batch, logs):\n",
        "        lr = K.get_value(self.model.optimizer.lr)\n",
        "        self.learning_rates.append(lr)\n",
        "\n",
        "        loss = logs['loss']\n",
        "        self.losses.append(loss)\n",
        "\n",
        "        if batch > 5 and (math.isnan(loss) or loss > self.best_loss * 4):\n",
        "            self.model.stop_training = True\n",
        "            return\n",
        "\n",
        "        if loss < self.best_loss:\n",
        "            self.best_loss = loss\n",
        "\n",
        "        lr *= self.lr_mult\n",
        "        K.set_value(self.model.optimizer.lr, lr)\n",
        "\n",
        "    def find(self, dataset, start_lr, end_lr, epochs=1,\n",
        "             steps_per_epoch=None, **kw_fit):\n",
        "        if steps_per_epoch is None:\n",
        "            raise Exception('To correctly train on the datagenerator,'\n",
        "                            '`steps_per_epoch` cannot be None.'\n",
        "                            'You can calculate it as '\n",
        "                            '`np.ceil(len(TRAINING_LIST) / BATCH)`')\n",
        "\n",
        "        self.lr_mult = (float(end_lr) /\n",
        "                        float(start_lr)) ** (float(1) /\n",
        "                                             float(epochs * steps_per_epoch))\n",
        "        initial_weights = self.model.get_weights()\n",
        "\n",
        "        original_lr = K.get_value(self.model.optimizer.lr)\n",
        "        K.set_value(self.model.optimizer.lr, start_lr)\n",
        "\n",
        "        callback = LambdaCallback(on_batch_end=lambda batch,\n",
        "                                  logs: self.on_batch_end(batch, logs))\n",
        "\n",
        "        self.model.fit(dataset,\n",
        "                       epochs=epochs, callbacks=[callback], **kw_fit)\n",
        "        self.model.set_weights(initial_weights)\n",
        "\n",
        "        K.set_value(self.model.optimizer.lr, original_lr)\n",
        "\n",
        "    def get_learning_rates(self):\n",
        "        return(self.learning_rates)\n",
        "\n",
        "    def get_losses(self):\n",
        "        return(self.losses)\n",
        "\n",
        "    def get_derivatives(self, sma):\n",
        "        assert sma >= 1\n",
        "        derivatives = [0] * sma\n",
        "        for i in range(sma, len(self.learning_rates)):\n",
        "            derivatives.append((self.losses[i] - self.losses[i - sma]) / sma)\n",
        "        return derivatives\n",
        "\n",
        "    def get_best_lr(self, sma, n_skip_beginning=10, n_skip_end=5):\n",
        "        derivatives = self.get_derivatives(sma)\n",
        "        best_der_idx = np.argmin(derivatives[n_skip_beginning:-n_skip_end])\n",
        "        return self.learning_rates[n_skip_beginning:-n_skip_end][best_der_idx]"
      ],
      "execution_count": 5,
      "outputs": []
    },
    {
      "cell_type": "code",
      "metadata": {
        "id": "fQIUJBrxeQHM"
      },
      "source": [
        "imdb, info = tfds.load(\"imdb_reviews\", with_info=True, as_supervised=True)\n",
        "train_data, test_data = imdb['train'], imdb['test']\n",
        "\n",
        "training_sentences = []\n",
        "training_labels = []\n",
        "\n",
        "testing_sentences = []\n",
        "testing_labels = []\n",
        "\n",
        "for s, l in train_data:\n",
        "    training_sentences.append(str(s.numpy()))\n",
        "    training_labels.append(l.numpy())\n",
        "\n",
        "for s, l in test_data:\n",
        "    testing_sentences.append(str(s.numpy()))\n",
        "    testing_labels.append(l.numpy())\n",
        "\n",
        "training_labels_final = np.array(training_labels)\n",
        "testing_labels_final = np.array(testing_labels)"
      ],
      "execution_count": null,
      "outputs": []
    },
    {
      "cell_type": "code",
      "metadata": {
        "id": "SMkF8jzbeav7"
      },
      "source": [
        "vocab_size = 10000\n",
        "embedding_dim = 16\n",
        "max_length = 120\n",
        "trunc_type='post'\n",
        "oov_tok = \"\"\n",
        "\n",
        "tokenizer = Tokenizer(num_words = vocab_size, oov_token=oov_tok) \n",
        "tokenizer.fit_on_texts(training_sentences) \n",
        "word_index = tokenizer.word_index\n",
        "sequences = tokenizer.texts_to_sequences(training_sentences) \n",
        "padded = pad_sequences(sequences,maxlen=max_length, truncating=trunc_type)\n",
        "testing_sequences = tokenizer.texts_to_sequences(testing_sentences)\n",
        "testing_padded = pad_sequences(testing_sequences,maxlen=max_length)"
      ],
      "execution_count": 7,
      "outputs": []
    },
    {
      "cell_type": "code",
      "metadata": {
        "id": "KgsY7EtZedUT"
      },
      "source": [
        "model = tf.keras.Sequential([\n",
        "    tf.keras.layers.Embedding(vocab_size, embedding_dim, input_length=max_length),\n",
        "    tf.keras.layers.Bidirectional(tf.keras.layers.GRU(32)),\n",
        "    tf.keras.layers.Dense(6, activation='relu'),\n",
        "    tf.keras.layers.Dense(1, activation='sigmoid')\n",
        "])\n",
        "model.compile(loss='binary_crossentropy',optimizer='adam',metrics=['accuracy'])"
      ],
      "execution_count": 8,
      "outputs": []
    },
    {
      "cell_type": "code",
      "metadata": {
        "colab": {
          "base_uri": "https://localhost:8080/",
          "height": 470
        },
        "id": "DQ-46tkUegBj",
        "outputId": "18882dc2-cc68-4dda-9748-54acaca6bee2"
      },
      "source": [
        "BATCH = 512\n",
        "train_ds = tf.data.Dataset.from_tensor_slices((padded, training_labels_final))\n",
        "train_ds = train_ds.batch(BATCH)\n",
        "STEPS_PER_EPOCH = np.ceil(len(train_data) / BATCH)\n",
        "lr_finder = LRFinder(model)\n",
        "lr_finder.find(train_ds, start_lr=1e-6, end_lr=1, epochs=5,\n",
        "               steps_per_epoch=STEPS_PER_EPOCH)\n",
        "               \n",
        "learning_rates = lr_finder.get_learning_rates()\n",
        "losses = lr_finder.get_losses()\n",
        "\n",
        "def plot_loss(learning_rates, losses, n_skip_beginning=10, n_skip_end=5, x_scale='log'):\n",
        "    f, ax = plt.subplots()\n",
        "    ax.set_ylabel(\"loss\")\n",
        "    ax.set_xlabel(\"learning rate (log scale)\")\n",
        "    ax.plot(learning_rates[n_skip_beginning:-n_skip_end],\n",
        "            losses[n_skip_beginning:-n_skip_end])\n",
        "    ax.set_xscale(x_scale)\n",
        "    return(ax)\n",
        "\n",
        "axs = plot_loss(learning_rates,losses)\n",
        "axs.axvline(x=lr_finder.get_best_lr(sma=20), c='r', linestyle='-.')"
      ],
      "execution_count": 10,
      "outputs": [
        {
          "output_type": "stream",
          "name": "stdout",
          "text": [
            "Epoch 1/5\n",
            "49/49 [==============================] - 14s 291ms/step - loss: 0.3447 - accuracy: 0.8620\n",
            "Epoch 2/5\n",
            "49/49 [==============================] - 14s 291ms/step - loss: 0.3267 - accuracy: 0.8702\n",
            "Epoch 3/5\n",
            "49/49 [==============================] - 14s 290ms/step - loss: 0.2990 - accuracy: 0.8770\n",
            "Epoch 4/5\n",
            "49/49 [==============================] - 14s 292ms/step - loss: 0.3201 - accuracy: 0.8657\n",
            "Epoch 5/5\n",
            "49/49 [==============================] - 15s 297ms/step - loss: 0.6807 - accuracy: 0.6389\n"
          ]
        },
        {
          "output_type": "execute_result",
          "data": {
            "text/plain": [
              "<matplotlib.lines.Line2D at 0x7f2d541929d0>"
            ]
          },
          "metadata": {},
          "execution_count": 10
        },
        {
          "output_type": "display_data",
          "data": {
            "image/png": "[encoded data removed]",
            "text/plain": [
              "<Figure size 432x288 with 1 Axes>"
            ]
          },
          "metadata": {
            "needs_background": "light"
          }
        }
      ]
    },
    {
      "cell_type": "code",
      "metadata": {
        "id": "jWnVXgFveiga"
      },
      "source": [
        "best_lr = lr_finder.get_best_lr(sma=20)\n",
        "K.set_value(model.optimizer.lr, best_lr)"
      ],
      "execution_count": 11,
      "outputs": []
    },
    {
      "cell_type": "code",
      "metadata": {
        "colab": {
          "base_uri": "https://localhost:8080/"
        },
        "id": "fS6U_3c5emND",
        "outputId": "1e24ecbd-9937-40d8-d433-9b5912092bbf"
      },
      "source": [
        "earlystop_callback = EarlyStopping(\n",
        "    monitor='val_loss', min_delta=0, patience=3)\n",
        "model.fit(padded, training_labels_final, epochs=10, validation_data=(\n",
        "    testing_padded, testing_labels_final), callbacks=[earlystop_callback])\n",
        "model.evaluate(testing_padded)"
      ],
      "execution_count": 12,
      "outputs": [
        {
          "output_type": "stream",
          "name": "stdout",
          "text": [
            "Epoch 1/10\n",
            "782/782 [==============================] - 78s 100ms/step - loss: 0.3008 - accuracy: 0.8774 - val_loss: 0.3757 - val_accuracy: 0.8364\n",
            "Epoch 2/10\n",
            "782/782 [==============================] - 78s 100ms/step - loss: 0.2424 - accuracy: 0.9090 - val_loss: 0.4042 - val_accuracy: 0.8356\n",
            "Epoch 3/10\n",
            "782/782 [==============================] - 78s 100ms/step - loss: 0.2003 - accuracy: 0.9286 - val_loss: 0.4269 - val_accuracy: 0.8314\n",
            "Epoch 4/10\n",
            "782/782 [==============================] - 78s 100ms/step - loss: 0.1648 - accuracy: 0.9453 - val_loss: 0.4610 - val_accuracy: 0.8292\n",
            "782/782 [==============================] - 2s 1ms/step - loss: 0.0000e+00 - accuracy: 0.0000e+00\n"
          ]
        },
        {
          "output_type": "execute_result",
          "data": {
            "text/plain": [
              "[0.0, 0.0]"
            ]
          },
          "metadata": {},
          "execution_count": 12
        }
      ]
    }
  ]
}