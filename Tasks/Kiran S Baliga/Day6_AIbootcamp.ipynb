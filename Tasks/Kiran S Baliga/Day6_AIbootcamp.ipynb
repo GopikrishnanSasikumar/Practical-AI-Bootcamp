{
  "nbformat": 4,
  "nbformat_minor": 0,
  "metadata": {
    "colab": {
      "name": "Day6_AIbootcamp.ipynb",
      "provenance": []
    },
    "kernelspec": {
      "name": "python3",
      "display_name": "Python 3"
    },
    "language_info": {
      "name": "python"
    }
  },
  "cells": [
    {
      "cell_type": "code",
      "metadata": {
        "id": "LKcDA_jNsi8x"
      },
      "source": [
        "import tensorflow as tf \n",
        "from tensorflow.keras.layers import GlobalAveragePooling2D, Dense\n",
        "from tensorflow.keras.layers import BatchNormalization, Dropout\n",
        "from tensorflow.keras.models import Model\n",
        "from tensorflow.keras.applications.vgg16 import VGG16\n",
        "from tensorflow.keras.applications import EfficientNetB0\n",
        "\n",
        "from tensorflow.keras.applications.resnet50 import ResNet50\n",
        "from tensorflow.keras.datasets import cifar10\n"
      ],
      "execution_count": null,
      "outputs": []
    },
    {
      "cell_type": "code",
      "metadata": {
        "id": "q6XedzZPtNm4"
      },
      "source": [
        "labels=['Airplane','Automobile','Bird','Cat','Deer','Dog','Frog','Horse','Ship','Truck']\n",
        "(xtrain,ytrain),(xtest,ytest)=cifar10.load_data()"
      ],
      "execution_count": null,
      "outputs": []
    },
    {
      "cell_type": "code",
      "metadata": {
        "id": "igAVJ9q7uZF6"
      },
      "source": [
        "xtrain=xtrain/255.0\n",
        "xtest=xtest/255.0\n",
        "#xtrain.shape"
      ],
      "execution_count": null,
      "outputs": []
    },
    {
      "cell_type": "code",
      "metadata": {
        "id": "YAN0_NgyuwS-"
      },
      "source": [
        "vgg16=VGG16(weights=\"imagenet\",include_top=False,input_shape=(32,32,3))\n",
        "vgg16.trainable=False\n",
        "x = vgg16.output\n",
        "x = GlobalAveragePooling2D()(x)\n",
        "x = BatchNormalization()(x)\n",
        "x = Dropout(0.5)(x)\n",
        "x = Dense(512,activation='relu')(x)\n",
        "x = BatchNormalization()(x)\n",
        "x = Dropout(0.5)(x)\n",
        "x = Dense(10,activation='softmax')(x)\n",
        "\n",
        "model = Model(vgg16.input,x)\n",
        "model.compile(optimizer = 'Adam',\n",
        "              loss= 'sparse_categorical_crossentropy',\n",
        "              metrics=['sparse_categorical_accuracy'])\n",
        "\n",
        "model.fit(xtrain,ytrain,epochs=5,validation_data=(xtest,ytest))\n",
        "model.evaluate(xtest,ytest)\n",
        "\n"
      ],
      "execution_count": null,
      "outputs": []
    },
    {
      "cell_type": "code",
      "metadata": {
        "id": "Y3V4Jm30xtAY"
      },
      "source": [
        "\n",
        "res = ResNet50(weights ='imagenet', include_top = False, input_shape =(32, 32, 3))\n",
        "res.trainable=False\n",
        "x = res.output\n",
        "x = GlobalAveragePooling2D()(x)\n",
        "x = BatchNormalization()(x)\n",
        "x = Dropout(0.5)(x) \n",
        "x = Dense(512, activation ='relu')(x)\n",
        "x = BatchNormalization()(x)\n",
        "x = Dropout(0.5)(x)\n",
        "x = Dense(10, activation ='softmax')(x)\n",
        "\n",
        "model = Model(res.input, x)\n",
        "model.compile(optimizer ='Adam', \n",
        "              loss ='sparse_categorical_crossentropy', \n",
        "              metrics =['sparse_categorical_accuracy']) \n",
        "\n",
        "model.fit(xtrain,ytrain,epochs=5,validation_data=(xtest,ytest))\n",
        "model.evaluate(xtest,ytest)"
      ],
      "execution_count": null,
      "outputs": []
    },
    {
      "cell_type": "code",
      "metadata": {
        "id": "npWBwkit7s07"
      },
      "source": [
        "effnet = EfficientNetB0(weights='imagenet',include_top=False,input_shape=(32,32,3))\n",
        "\n",
        "x = effnet.output\n",
        "x = GlobalAveragePooling2D()(x)\n",
        "x = BatchNormalization()(x)\n",
        "x = Dropout(0.5)(x) \n",
        "x = Dense(512, activation ='relu')(x)\n",
        "x = BatchNormalization()(x)\n",
        "x = Dropout(0.5)(x)\n",
        "x = Dense(101, activation ='softmax')(x)\n",
        "\n",
        "model = Model(effnet.input, x)\n",
        "model.compile(optimizer ='Adam', \n",
        "              loss =\"sparse_categorical_crossentropy\", \n",
        "              metrics =[\"sparse_categorical_accuracy\"])  \n",
        "\n",
        "model.fit(xtrain,ytrain,epochs=5,validation_data=(xtest,ytest))\n",
        "model.evaluate(xtest,ytest)"
      ],
      "execution_count": null,
      "outputs": []
    }
  ]
}