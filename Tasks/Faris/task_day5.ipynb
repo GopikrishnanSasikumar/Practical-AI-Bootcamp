{
  "nbformat": 4,
  "nbformat_minor": 0,
  "metadata": {
    "colab": {
      "name": "task_day5.ipynb",
      "provenance": [],
      "collapsed_sections": [],
      "authorship_tag": "ABX9TyP7USN4kJ0fiNrKrSP5BrlB",
      "include_colab_link": true
    },
    "kernelspec": {
      "name": "python3",
      "display_name": "Python 3"
    },
    "language_info": {
      "name": "python"
    }
  },
  "cells": [
    {
      "cell_type": "markdown",
      "metadata": {
        "id": "view-in-github",
        "colab_type": "text"
      },
      "source": [
        "<a href=\"https://colab.research.google.com/github/faris-mohamed10/Practical-AI-Bootcamp/blob/main/Tasks/Faris/task_day5.ipynb\" target=\"_parent\"><img src=\"https://colab.research.google.com/assets/colab-badge.svg\" alt=\"Open In Colab\"/></a>"
      ]
    },
    {
      "cell_type": "code",
      "metadata": {
        "id": "UG13PokZ_MmO"
      },
      "source": [
        "# installing dependencies\n",
        "!pip install tensorflow_datasets\n",
        "!git clone https://github.com/beringresearch/lrfinder/\n",
        "!cd lrfinder && python3 -m pip install ."
      ],
      "execution_count": null,
      "outputs": []
    },
    {
      "cell_type": "code",
      "metadata": {
        "colab": {
          "base_uri": "https://localhost:8080/",
          "height": 623
        },
        "id": "it-54hKm78G8",
        "outputId": "33d716a6-f974-4943-cc4d-a40b82e0188f"
      },
      "source": [
        "import tensorflow as tf\n",
        "import tensorflow_datasets as tfds\n",
        "import numpy as np\n",
        "from tensorflow.keras.preprocessing.text import Tokenizer\n",
        "from tensorflow.keras.preprocessing.sequence import pad_sequences\n",
        "from tensorflow.keras.preprocessing.sequence import pad_sequences\n",
        "from tensorflow.keras.callbacks import EarlyStopping\n",
        "from lrfinder import LRFinder\n",
        "import matplotlib.pyplot as plt\n",
        "\n",
        "K = tf.keras.backend\n",
        "\n",
        "imdb, info = tfds.load(\"imdb_reviews\", with_info=True, as_supervised=True)\n",
        "train_data, test_data = imdb['train'], imdb['test']\n",
        "\n",
        "training_sentences = []\n",
        "training_labels = []\n",
        "\n",
        "testing_sentences = []\n",
        "testing_labels = []\n",
        "\n",
        "for s,l in train_data:\n",
        "  training_sentences.append(str(s.numpy()))\n",
        "  training_labels.append(l.numpy())\n",
        "  \n",
        "for s,l in test_data:\n",
        "  testing_sentences.append(str(s.numpy()))\n",
        "  testing_labels.append(l.numpy())\n",
        "  \n",
        "training_labels_final = np.array(training_labels)\n",
        "testing_labels_final = np.array(testing_labels)\n",
        "\n",
        "vocab_size = 10000\n",
        "embedding_dim = 16\n",
        "max_length = 120\n",
        "trunc_type='post'\n",
        "oov_tok = \"\"\n",
        "num_epochs=1\n",
        "\n",
        "tokenizer = Tokenizer(num_words = vocab_size, oov_token=oov_tok) \n",
        "tokenizer.fit_on_texts(training_sentences) \n",
        "word_index = tokenizer.word_index\n",
        "sequences = tokenizer.texts_to_sequences(training_sentences) \n",
        "padded = pad_sequences(sequences,maxlen=max_length, truncating=trunc_type)\n",
        "testing_sequences = tokenizer.texts_to_sequences(testing_sentences)\n",
        "testing_padded = pad_sequences(testing_sequences,maxlen=max_length)\n",
        "\n",
        "model = tf.keras.Sequential([\n",
        "    tf.keras.layers.Embedding(vocab_size, embedding_dim, input_length=max_length),\n",
        "    tf.keras.layers.Bidirectional(tf.keras.layers.GRU(32)),\n",
        "    tf.keras.layers.Dense(6, activation='relu'),\n",
        "    tf.keras.layers.Dense(1, activation='sigmoid')\n",
        "])\n",
        "model.compile(loss='binary_crossentropy',optimizer='adam',metrics=['accuracy'])\n",
        "\n",
        "BATCH = 512\n",
        "train_ds = tf.data.Dataset.from_tensor_slices((padded, training_labels_final))\n",
        "train_ds = train_ds.batch(BATCH)\n",
        "STEPS_PER_EPOCH = np.ceil(len(train_data) / BATCH)\n",
        "lr_finder = LRFinder(model)\n",
        "lr_finder.find(train_ds, start_lr=1e-6, end_lr=1, epochs=num_epochs,\n",
        "               steps_per_epoch=STEPS_PER_EPOCH)\n",
        "               \n",
        "learning_rates = lr_finder.get_learning_rates()\n",
        "losses = lr_finder.get_losses()\n",
        "\n",
        "def plot_loss(learning_rates, losses, n_skip_beginning=10, n_skip_end=5, x_scale='log'):\n",
        "    f, ax = plt.subplots()\n",
        "    ax.set_ylabel(\"loss\")\n",
        "    ax.set_xlabel(\"learning rate (log scale)\")\n",
        "    ax.plot(learning_rates[n_skip_beginning:-n_skip_end],\n",
        "            losses[n_skip_beginning:-n_skip_end])\n",
        "    ax.set_xscale(x_scale)\n",
        "    return(ax)\n",
        "\n",
        "axs = plot_loss(learning_rates=learning_rates,losses=losses)\n",
        "axs.axvline(x=lr_finder.get_best_lr(sma=20), c='r', linestyle='-.')\n",
        "\n",
        "best_lr = lr_finder.get_best_lr(sma=20)\n",
        "K.set_value(model.optimizer.lr, best_lr)\n",
        "print(model.optimizer.lr)\n",
        "\n",
        "\n",
        "earlystop_callback = EarlyStopping(\n",
        "  monitor='val_loss', min_delta=0.0001, patience=3)\n",
        "\n",
        "model.fit(padded, training_labels_final, epochs=num_epochs, validation_data=(testing_padded, testing_labels_final), callbacks=[earlystop_callback])\n",
        "model.evaluate(testing_padded)\n",
        "\n",
        "model.summary()"
      ],
      "execution_count": 4,
      "outputs": [
        {
          "output_type": "stream",
          "name": "stdout",
          "text": [
            "49/49 [==============================] - 20s 329ms/step - loss: 0.7179 - accuracy: 0.5088\n",
            "<tf.Variable 'learning_rate:0' shape=() dtype=float32, numpy=0.04498432>\n",
            "782/782 [==============================] - 83s 107ms/step - loss: 0.6944 - accuracy: 0.4962 - val_loss: 0.6939 - val_accuracy: 0.5000\n",
            "782/782 [==============================] - 2s 2ms/step - loss: 0.0000e+00 - accuracy: 0.0000e+00\n",
            "Model: \"sequential_1\"\n",
            "_________________________________________________________________\n",
            "Layer (type)                 Output Shape              Param #   \n",
            "=================================================================\n",
            "embedding_1 (Embedding)      (None, 120, 16)           160000    \n",
            "_________________________________________________________________\n",
            "bidirectional_1 (Bidirection (None, 64)                9600      \n",
            "_________________________________________________________________\n",
            "dense_2 (Dense)              (None, 6)                 390       \n",
            "_________________________________________________________________\n",
            "dense_3 (Dense)              (None, 1)                 7         \n",
            "=================================================================\n",
            "Total params: 169,997\n",
            "Trainable params: 169,997\n",
            "Non-trainable params: 0\n",
            "_________________________________________________________________\n"
          ]
        },
        {
          "output_type": "display_data",
          "data": {
            "image/png": "[encoded data removed]",
            "text/plain": [
              "<Figure size 432x288 with 1 Axes>"
            ]
          },
          "metadata": {
            "needs_background": "light"
          }
        }
      ]
    }
  ]
}