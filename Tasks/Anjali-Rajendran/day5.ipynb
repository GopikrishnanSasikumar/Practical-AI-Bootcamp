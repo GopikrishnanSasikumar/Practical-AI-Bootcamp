{
  "nbformat": 4,
  "nbformat_minor": 0,
  "metadata": {
    "colab": {
      "name": "day5.ipynb",
      "provenance": [],
      "authorship_tag": "ABX9TyOtU96PuHKmGc1SEFUVIGsw",
      "include_colab_link": true
    },
    "kernelspec": {
      "name": "python3",
      "display_name": "Python 3"
    },
    "language_info": {
      "name": "python"
    },
    "accelerator": "GPU"
  },
  "cells": [
    {
      "cell_type": "markdown",
      "metadata": {
        "id": "view-in-github",
        "colab_type": "text"
      },
      "source": [
        "<a href=\"https://colab.research.google.com/github/AnjaliRaj015/Practical-AI-Bootcamp/blob/main/Tasks/Anjali-Rajendran/day5.ipynb\" target=\"_parent\"><img src=\"https://colab.research.google.com/assets/colab-badge.svg\" alt=\"Open In Colab\"/></a>"
      ]
    },
    {
      "cell_type": "code",
      "metadata": {
        "id": "g9LBwcl9BGO-"
      },
      "source": [
        "import tensorflow_datasets as tfds\n",
        "from tensorflow.keras.utils import to_categorical\n",
        "import tensorflow as tf\n",
        "import matplotlib.pyplot as plt\n",
        "from tensorflow.keras.callbacks import EarlyStopping\n",
        "import tensorflow.keras.backend as K\n",
        "import numpy as np"
      ],
      "execution_count": 23,
      "outputs": []
    },
    {
      "cell_type": "code",
      "metadata": {
        "id": "Sljn-k83X8rF"
      },
      "source": [
        "(ds_train, ds_test), ds_info = tfds.load(\n",
        "    'mnist',\n",
        "    split=['train', 'test'],\n",
        "    shuffle_files=True,\n",
        "    as_supervised=True,\n",
        "    with_info=True,\n",
        ")"
      ],
      "execution_count": 24,
      "outputs": []
    },
    {
      "cell_type": "code",
      "metadata": {
        "id": "v3Uu6OBLYF3a"
      },
      "source": [
        "def normalize_img(image, label):\n",
        "  \"\"\"Normalizes images: `uint8` -> `float32`.\"\"\"\n",
        "  return tf.cast(image, tf.float32) / 255., label"
      ],
      "execution_count": 25,
      "outputs": []
    },
    {
      "cell_type": "code",
      "metadata": {
        "id": "haLFRGD8YHia"
      },
      "source": [
        "ds_train = ds_train.map(\n",
        "    normalize_img, num_parallel_calls=tf.data.experimental.AUTOTUNE)\n",
        "ds_train = ds_train.cache()\n",
        "ds_train = ds_train.shuffle(ds_info.splits['train'].num_examples)\n",
        "ds_train = ds_train.batch(128)\n",
        "ds_train = ds_train.prefetch(tf.data.experimental.AUTOTUNE)"
      ],
      "execution_count": 26,
      "outputs": []
    },
    {
      "cell_type": "code",
      "metadata": {
        "id": "ZIeYmO5_YKrw"
      },
      "source": [
        "ds_test = ds_test.map(\n",
        "    normalize_img, num_parallel_calls=tf.data.experimental.AUTOTUNE)\n",
        "ds_test = ds_test.batch(128)\n",
        "ds_test = ds_test.cache()\n",
        "ds_test = ds_test.prefetch(tf.data.experimental.AUTOTUNE)"
      ],
      "execution_count": 27,
      "outputs": []
    },
    {
      "cell_type": "code",
      "metadata": {
        "id": "NuJ0bvZfYNu1"
      },
      "source": [
        "model = tf.keras.models.Sequential([\n",
        "  tf.keras.layers.Flatten(input_shape=(28, 28)),\n",
        "  tf.keras.layers.Dense(128,activation='relu'),\n",
        "  tf.keras.layers.Dense(10)\n",
        "])"
      ],
      "execution_count": 28,
      "outputs": []
    },
    {
      "cell_type": "code",
      "metadata": {
        "id": "t7E9OZK2YTXH"
      },
      "source": [
        "model.compile(\n",
        "    optimizer=tf.keras.optimizers.Adam(0.001),\n",
        "    loss=tf.keras.losses.SparseCategoricalCrossentropy(from_logits=True),\n",
        "    metrics=[tf.keras.metrics.SparseCategoricalAccuracy()],\n",
        ")"
      ],
      "execution_count": 29,
      "outputs": []
    },
    {
      "cell_type": "code",
      "metadata": {
        "id": "uCYqq-nlYXGZ"
      },
      "source": [
        "earlystop_callback = EarlyStopping(\n",
        "  monitor='val_loss',min_delta=0.001, patience=3)"
      ],
      "execution_count": 33,
      "outputs": []
    },
    {
      "cell_type": "code",
      "metadata": {
        "colab": {
          "base_uri": "https://localhost:8080/"
        },
        "id": "NDAr5uF1YY08",
        "outputId": "d2fcdca4-2fa2-49e1-b3b9-56171210aeea"
      },
      "source": [
        "model.fit(ds_train, epochs=20, validation_data=ds_test, callbacks=[earlystop_callback])\n",
        "model.evaluate(ds_test)"
      ],
      "execution_count": 34,
      "outputs": [
        {
          "output_type": "stream",
          "name": "stdout",
          "text": [
            "Epoch 1/20\n",
            "469/469 [==============================] - 12s 7ms/step - loss: 0.3544 - sparse_categorical_accuracy: 0.9025 - val_loss: 0.1918 - val_sparse_categorical_accuracy: 0.9446\n",
            "Epoch 2/20\n",
            "469/469 [==============================] - 2s 3ms/step - loss: 0.1673 - sparse_categorical_accuracy: 0.9508 - val_loss: 0.1428 - val_sparse_categorical_accuracy: 0.9583\n",
            "Epoch 3/20\n",
            "469/469 [==============================] - 2s 4ms/step - loss: 0.1220 - sparse_categorical_accuracy: 0.9643 - val_loss: 0.1113 - val_sparse_categorical_accuracy: 0.9670\n",
            "Epoch 4/20\n",
            "469/469 [==============================] - 2s 3ms/step - loss: 0.0943 - sparse_categorical_accuracy: 0.9719 - val_loss: 0.0984 - val_sparse_categorical_accuracy: 0.9693\n",
            "Epoch 5/20\n",
            "469/469 [==============================] - 2s 3ms/step - loss: 0.0767 - sparse_categorical_accuracy: 0.9774 - val_loss: 0.0907 - val_sparse_categorical_accuracy: 0.9724\n",
            "Epoch 6/20\n",
            "469/469 [==============================] - 2s 3ms/step - loss: 0.0629 - sparse_categorical_accuracy: 0.9815 - val_loss: 0.0769 - val_sparse_categorical_accuracy: 0.9762\n",
            "Epoch 7/20\n",
            "469/469 [==============================] - 2s 3ms/step - loss: 0.0524 - sparse_categorical_accuracy: 0.9846 - val_loss: 0.0806 - val_sparse_categorical_accuracy: 0.9755\n",
            "Epoch 8/20\n",
            "469/469 [==============================] - 2s 3ms/step - loss: 0.0439 - sparse_categorical_accuracy: 0.9875 - val_loss: 0.0736 - val_sparse_categorical_accuracy: 0.9760\n",
            "Epoch 9/20\n",
            "469/469 [==============================] - 2s 3ms/step - loss: 0.0366 - sparse_categorical_accuracy: 0.9897 - val_loss: 0.0725 - val_sparse_categorical_accuracy: 0.9760\n",
            "Epoch 10/20\n",
            "469/469 [==============================] - 2s 3ms/step - loss: 0.0313 - sparse_categorical_accuracy: 0.9917 - val_loss: 0.0734 - val_sparse_categorical_accuracy: 0.9778\n",
            "Epoch 11/20\n",
            "469/469 [==============================] - 2s 3ms/step - loss: 0.0266 - sparse_categorical_accuracy: 0.9930 - val_loss: 0.0719 - val_sparse_categorical_accuracy: 0.9768\n",
            "Epoch 12/20\n",
            "469/469 [==============================] - 2s 3ms/step - loss: 0.0217 - sparse_categorical_accuracy: 0.9951 - val_loss: 0.0691 - val_sparse_categorical_accuracy: 0.9782\n",
            "Epoch 13/20\n",
            "469/469 [==============================] - 2s 3ms/step - loss: 0.0188 - sparse_categorical_accuracy: 0.9953 - val_loss: 0.0720 - val_sparse_categorical_accuracy: 0.9772\n",
            "Epoch 14/20\n",
            "469/469 [==============================] - 2s 3ms/step - loss: 0.0159 - sparse_categorical_accuracy: 0.9964 - val_loss: 0.0737 - val_sparse_categorical_accuracy: 0.9782\n",
            "Epoch 15/20\n",
            "469/469 [==============================] - 2s 3ms/step - loss: 0.0144 - sparse_categorical_accuracy: 0.9967 - val_loss: 0.0763 - val_sparse_categorical_accuracy: 0.9762\n",
            "79/79 [==============================] - 0s 2ms/step - loss: 0.0763 - sparse_categorical_accuracy: 0.9762\n"
          ]
        },
        {
          "output_type": "execute_result",
          "data": {
            "text/plain": [
              "[0.07628099620342255, 0.9761999845504761]"
            ]
          },
          "metadata": {},
          "execution_count": 34
        }
      ]
    }
  ]
}